{
 "cells": [
  {
   "cell_type": "code",
   "execution_count": 1,
   "id": "60aa7ac8",
   "metadata": {},
   "outputs": [
    {
     "name": "stdout",
     "output_type": "stream",
     "text": [
      "datasets/gu copy is done\n",
      "datasets/choki copy is done\n",
      "datasets/pa copy is done\n",
      "processing is done\n"
     ]
    }
   ],
   "source": [
    "# データセット・ラベルの作成\n",
    "\n",
    "import split_train_val\n",
    "\n",
    "ds_org_dir = 'datasets'\n",
    "ds_root_dir = 'target_datasets'\n",
    "\n",
    "split_train_val.image_dir_train_val_split(ds_org_dir, ds_root_dir, 0.67)\n",
    "\n",
    "t_dir = ds_root_dir + '/train'\n",
    "v_dir = ds_root_dir + '/val'\n",
    "\n",
    "\n",
    "import generate_label\n",
    "\n",
    "backup_dir = './model'\n",
    "label_name = '/label.txt'\n",
    "\n",
    "labels = generate_label.generate_label(ds_org_dir, backup_dir, label_name)\n",
    "NUM_CLASSES = len(labels)"
   ]
  },
  {
   "cell_type": "code",
   "execution_count": 2,
   "id": "dd568499",
   "metadata": {},
   "outputs": [
    {
     "name": "stderr",
     "output_type": "stream",
     "text": [
      "Using plaidml.keras.backend backend.\n"
     ]
    }
   ],
   "source": [
    "# インポート\n",
    "\n",
    "import keras\n",
    "from keras.layers import Conv2D, MaxPooling2D\n",
    "from keras.models import Sequential\n",
    "from keras.layers import Dense, Dropout, Activation, Flatten\n",
    "from keras.preprocessing.image import array_to_img, img_to_array, load_img, ImageDataGenerator\n",
    "\n",
    "import numpy as np\n",
    "import matplotlib.pyplot as plt"
   ]
  },
  {
   "cell_type": "code",
   "execution_count": 3,
   "id": "a2477ec5",
   "metadata": {},
   "outputs": [],
   "source": [
    "# ハイパーパラメータ\n",
    "\n",
    "# 学習率\n",
    "LEARNING_RATE = 0.001\n",
    "# エポック\n",
    "EPOCHS = 20\n",
    "# バッチサイズ\n",
    "BATCH_SIZE = 8"
   ]
  },
  {
   "cell_type": "code",
   "execution_count": 4,
   "id": "fb3230a6",
   "metadata": {},
   "outputs": [
    {
     "name": "stdout",
     "output_type": "stream",
     "text": [
      "Found 111 images belonging to 3 classes.\n",
      "Found 56 images belonging to 3 classes.\n"
     ]
    }
   ],
   "source": [
    "# 前処理\n",
    "\n",
    "IMAGE_SIZE = 64\n",
    "\n",
    "t_data_gen = ImageDataGenerator(rescale=1./255)\n",
    "v_data_gen = ImageDataGenerator(rescale=1./255)\n",
    "\n",
    "t_data = t_data_gen.flow_from_directory(t_dir, target_size=(IMAGE_SIZE, IMAGE_SIZE),\n",
    "    color_mode='rgb', batch_size=BATCH_SIZE, class_mode='categorical', shuffle=True)\n",
    "\n",
    "v_data = v_data_gen.flow_from_directory(v_dir, target_size=(IMAGE_SIZE, IMAGE_SIZE),\n",
    "    color_mode='rgb', batch_size=BATCH_SIZE, class_mode='categorical', shuffle=True)"
   ]
  },
  {
   "cell_type": "code",
   "execution_count": 7,
   "id": "88b9109d",
   "metadata": {},
   "outputs": [],
   "source": [
    "# AIモデルの作成\n",
    "\n",
    "model = Sequential()\n",
    "\n",
    "model.add(Conv2D(32, (3, 3), padding='same', input_shape=(IMAGE_SIZE, IMAGE_SIZE, 3)))\n",
    "model.add(Activation('relu'))\n",
    "model.add(Conv2D(64, (3, 3)))\n",
    "model.add(Activation('relu'))\n",
    "model.add(MaxPooling2D(pool_size=(2, 2)))\n",
    "model.add(Dropout(0.25))\n",
    "\n",
    "model.add(Flatten())\n",
    "model.add(Dense(128))\n",
    "model.add(Activation('relu'))\n",
    "model.add(Dropout(0.5))\n",
    "model.add(Dense(NUM_CLASSES))\n",
    "model.add(Activation('softmax'))\n",
    "\n",
    "opt = keras.optimizers.Adam(lr=LEARNING_RATE)\n",
    "\n",
    "model.compile(opt, loss='categorical_crossentropy', metrics=['accuracy'])"
   ]
  },
  {
   "cell_type": "code",
   "execution_count": 8,
   "id": "9b74ff69",
   "metadata": {},
   "outputs": [
    {
     "name": "stdout",
     "output_type": "stream",
     "text": [
      "_________________________________________________________________\n",
      "Layer (type)                 Output Shape              Param #   \n",
      "=================================================================\n",
      "conv2d_5 (Conv2D)            (None, 64, 64, 32)        896       \n",
      "_________________________________________________________________\n",
      "activation_9 (Activation)    (None, 64, 64, 32)        0         \n",
      "_________________________________________________________________\n",
      "conv2d_6 (Conv2D)            (None, 62, 62, 64)        18496     \n",
      "_________________________________________________________________\n",
      "activation_10 (Activation)   (None, 62, 62, 64)        0         \n",
      "_________________________________________________________________\n",
      "max_pooling2d_3 (MaxPooling2 (None, 31, 31, 64)        0         \n",
      "_________________________________________________________________\n",
      "dropout_5 (Dropout)          (None, 31, 31, 64)        0         \n",
      "_________________________________________________________________\n",
      "flatten_3 (Flatten)          (None, 61504)             0         \n",
      "_________________________________________________________________\n",
      "dense_5 (Dense)              (None, 128)               7872640   \n",
      "_________________________________________________________________\n",
      "activation_11 (Activation)   (None, 128)               0         \n",
      "_________________________________________________________________\n",
      "dropout_6 (Dropout)          (None, 128)               0         \n",
      "_________________________________________________________________\n",
      "dense_6 (Dense)              (None, 3)                 387       \n",
      "_________________________________________________________________\n",
      "activation_12 (Activation)   (None, 3)                 0         \n",
      "=================================================================\n",
      "Total params: 7,892,419\n",
      "Trainable params: 7,892,419\n",
      "Non-trainable params: 0\n",
      "_________________________________________________________________\n"
     ]
    }
   ],
   "source": [
    "model.summary()"
   ]
  },
  {
   "cell_type": "code",
   "execution_count": null,
   "id": "c2dcea78",
   "metadata": {},
   "outputs": [],
   "source": []
  }
 ],
 "metadata": {
  "kernelspec": {
   "display_name": "Python 3",
   "language": "python",
   "name": "python3"
  },
  "language_info": {
   "codemirror_mode": {
    "name": "ipython",
    "version": 3
   },
   "file_extension": ".py",
   "mimetype": "text/x-python",
   "name": "python",
   "nbconvert_exporter": "python",
   "pygments_lexer": "ipython3",
   "version": "3.9.4"
  }
 },
 "nbformat": 4,
 "nbformat_minor": 5
}
